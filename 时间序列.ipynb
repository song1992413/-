{
 "cells": [
  {
   "cell_type": "code",
   "execution_count": 4,
   "metadata": {
    "collapsed": false
   },
   "outputs": [
    {
     "name": "stdout",
     "output_type": "stream",
     "text": [
      "scipy: 0.18.1,s\n",
      "numpy: 1.11.1\n",
      "matplotlib: 1.5.3\n",
      "pandas: 0.18.1\n",
      "sklearn: 0.17.1\n",
      "statsmodels: 0.6.1\n"
     ]
    }
   ],
   "source": [
    "# scipy\n",
    "import scipy\n",
    "print('scipy: {},{}'.format(scipy.__version__,'s'))\n",
    "# numpy\n",
    "import numpy\n",
    "print('numpy: {}'.format(numpy.__version__))\n",
    "# matplotlib\n",
    "import matplotlib\n",
    "print('matplotlib: {}'.format(matplotlib.__version__))\n",
    "# pandas\n",
    "import pandas  \n",
    "print('pandas: {}'.format(pandas.__version__))\n",
    "# scikit-learn\n",
    "import sklearn\n",
    "print('sklearn: {}'.format(sklearn.__version__))\n",
    "# statsmodels\n",
    "import statsmodels\n",
    "print('statsmodels: {}'.format(statsmodels.__version__))"
   ]
  },
  {
   "cell_type": "code",
   "execution_count": 9,
   "metadata": {
    "collapsed": true
   },
   "outputs": [],
   "source": [
    "import pandas  as  pd"
   ]
  },
  {
   "cell_type": "code",
   "execution_count": 12,
   "metadata": {
    "collapsed": false
   },
   "outputs": [],
   "source": [
    "series = pd.read_csv('robberies.csv')"
   ]
  },
  {
   "cell_type": "code",
   "execution_count": 13,
   "metadata": {
    "collapsed": true
   },
   "outputs": [],
   "source": [
    "from pandas import Series\n",
    "series = Series.from_csv('robberies.csv', header=0)"
   ]
  },
  {
   "cell_type": "code",
   "execution_count": 14,
   "metadata": {
    "collapsed": false
   },
   "outputs": [
    {
     "data": {
      "text/plain": [
       "Month\n",
       "1966-01                                                                     41.0\n",
       "1966-02                                                                     39.0\n",
       "1966-03                                                                     50.0\n",
       "1966-04                                                                     40.0\n",
       "1966-05                                                                     43.0\n",
       "1966-06                                                                     38.0\n",
       "1966-07                                                                     44.0\n",
       "1966-08                                                                     35.0\n",
       "1966-09                                                                     39.0\n",
       "1966-10                                                                     35.0\n",
       "1966-11                                                                     29.0\n",
       "1966-12                                                                     49.0\n",
       "1967-01                                                                     50.0\n",
       "1967-02                                                                     59.0\n",
       "1967-03                                                                     63.0\n",
       "1967-04                                                                     32.0\n",
       "1967-05                                                                     39.0\n",
       "1967-06                                                                     47.0\n",
       "1967-07                                                                     53.0\n",
       "1967-08                                                                     60.0\n",
       "1967-09                                                                     57.0\n",
       "1967-10                                                                     52.0\n",
       "1967-11                                                                     70.0\n",
       "1967-12                                                                     90.0\n",
       "1968-01                                                                     74.0\n",
       "1968-02                                                                     62.0\n",
       "1968-03                                                                     55.0\n",
       "1968-04                                                                     84.0\n",
       "1968-05                                                                     94.0\n",
       "1968-06                                                                     70.0\n",
       "                                                                           ...  \n",
       "1973-06                                                                    279.0\n",
       "1973-07                                                                    309.0\n",
       "1973-08                                                                    401.0\n",
       "1973-09                                                                    309.0\n",
       "1973-10                                                                    328.0\n",
       "1973-11                                                                    353.0\n",
       "1973-12                                                                    354.0\n",
       "1974-01                                                                    327.0\n",
       "1974-02                                                                    324.0\n",
       "1974-03                                                                    285.0\n",
       "1974-04                                                                    243.0\n",
       "1974-05                                                                    241.0\n",
       "1974-06                                                                    287.0\n",
       "1974-07                                                                    355.0\n",
       "1974-08                                                                    460.0\n",
       "1974-09                                                                    364.0\n",
       "1974-10                                                                    487.0\n",
       "1974-11                                                                    452.0\n",
       "1974-12                                                                    391.0\n",
       "1975-01                                                                    500.0\n",
       "1975-02                                                                    451.0\n",
       "1975-03                                                                    375.0\n",
       "1975-04                                                                    372.0\n",
       "1975-05                                                                    302.0\n",
       "1975-06                                                                    316.0\n",
       "1975-07                                                                    398.0\n",
       "1975-08                                                                    394.0\n",
       "1975-09                                                                    431.0\n",
       "1975-10                                                                    431.0\n",
       "Monthly Boston armed robberies Jan.1966-Oct.1975 Deutsch and Alt (1977)      NaN\n",
       "Name: Monthly Boston armed robberies Jan.1966-Oct.1975 Deutsch and Alt (1977), dtype: float64"
      ]
     },
     "execution_count": 14,
     "metadata": {},
     "output_type": "execute_result"
    }
   ],
   "source": [
    "series"
   ]
  },
  {
   "cell_type": "code",
   "execution_count": 15,
   "metadata": {
    "collapsed": false
   },
   "outputs": [
    {
     "data": {
      "text/plain": [
       "119"
      ]
     },
     "execution_count": 15,
     "metadata": {},
     "output_type": "execute_result"
    }
   ],
   "source": [
    "len(series)"
   ]
  },
  {
   "cell_type": "code",
   "execution_count": 20,
   "metadata": {
    "collapsed": false
   },
   "outputs": [],
   "source": [
    "series=series[:-1]"
   ]
  },
  {
   "cell_type": "code",
   "execution_count": 28,
   "metadata": {
    "collapsed": false
   },
   "outputs": [
    {
     "data": {
      "text/plain": [
       "Month\n",
       "1966-01     41.0\n",
       "1966-02     39.0\n",
       "1966-03     50.0\n",
       "1966-04     40.0\n",
       "1966-05     43.0\n",
       "1966-06     38.0\n",
       "1966-07     44.0\n",
       "1966-08     35.0\n",
       "1966-09     39.0\n",
       "1966-10     35.0\n",
       "1966-11     29.0\n",
       "1966-12     49.0\n",
       "1967-01     50.0\n",
       "1967-02     59.0\n",
       "1967-03     63.0\n",
       "1967-04     32.0\n",
       "1967-05     39.0\n",
       "1967-06     47.0\n",
       "1967-07     53.0\n",
       "1967-08     60.0\n",
       "1967-09     57.0\n",
       "1967-10     52.0\n",
       "1967-11     70.0\n",
       "1967-12     90.0\n",
       "1968-01     74.0\n",
       "1968-02     62.0\n",
       "1968-03     55.0\n",
       "1968-04     84.0\n",
       "1968-05     94.0\n",
       "1968-06     70.0\n",
       "           ...  \n",
       "1973-05    286.0\n",
       "1973-06    279.0\n",
       "1973-07    309.0\n",
       "1973-08    401.0\n",
       "1973-09    309.0\n",
       "1973-10    328.0\n",
       "1973-11    353.0\n",
       "1973-12    354.0\n",
       "1974-01    327.0\n",
       "1974-02    324.0\n",
       "1974-03    285.0\n",
       "1974-04    243.0\n",
       "1974-05    241.0\n",
       "1974-06    287.0\n",
       "1974-07    355.0\n",
       "1974-08    460.0\n",
       "1974-09    364.0\n",
       "1974-10    487.0\n",
       "1974-11    452.0\n",
       "1974-12    391.0\n",
       "1975-01    500.0\n",
       "1975-02    451.0\n",
       "1975-03    375.0\n",
       "1975-04    372.0\n",
       "1975-05    302.0\n",
       "1975-06    316.0\n",
       "1975-07    398.0\n",
       "1975-08    394.0\n",
       "1975-09    431.0\n",
       "1975-10    431.0\n",
       "Name: Monthly Boston armed robberies Jan.1966-Oct.1975 Deutsch and Alt (1977), dtype: float64"
      ]
     },
     "execution_count": 28,
     "metadata": {},
     "output_type": "execute_result"
    }
   ],
   "source": [
    "series"
   ]
  },
  {
   "cell_type": "code",
   "execution_count": 29,
   "metadata": {
    "collapsed": true
   },
   "outputs": [],
   "source": [
    "split_point = len(series) - 12"
   ]
  },
  {
   "cell_type": "code",
   "execution_count": 31,
   "metadata": {
    "collapsed": true
   },
   "outputs": [],
   "source": [
    "dataset,validation = series[:split_point] , series[split_point:]"
   ]
  },
  {
   "cell_type": "code",
   "execution_count": 32,
   "metadata": {
    "collapsed": false
   },
   "outputs": [
    {
     "name": "stdout",
     "output_type": "stream",
     "text": [
      "Dataset 106 , Validation 12\n"
     ]
    }
   ],
   "source": [
    "print('Dataset %d , Validation %d'%(len(dataset),len(validation)))"
   ]
  },
  {
   "cell_type": "code",
   "execution_count": 34,
   "metadata": {
    "collapsed": false
   },
   "outputs": [],
   "source": [
    "series=dataset"
   ]
  },
  {
   "cell_type": "code",
   "execution_count": 36,
   "metadata": {
    "collapsed": false
   },
   "outputs": [],
   "source": [
    "X = series.values"
   ]
  },
  {
   "cell_type": "code",
   "execution_count": 37,
   "metadata": {
    "collapsed": false
   },
   "outputs": [
    {
     "data": {
      "text/plain": [
       "array([  41.,   39.,   50.,   40.,   43.,   38.,   44.,   35.,   39.,\n",
       "         35.,   29.,   49.,   50.,   59.,   63.,   32.,   39.,   47.,\n",
       "         53.,   60.,   57.,   52.,   70.,   90.,   74.,   62.,   55.,\n",
       "         84.,   94.,   70.,  108.,  139.,  120.,   97.,  126.,  149.,\n",
       "        158.,  124.,  140.,  109.,  114.,   77.,  120.,  133.,  110.,\n",
       "         92.,   97.,   78.,   99.,  107.,  112.,   90.,   98.,  125.,\n",
       "        155.,  190.,  236.,  189.,  174.,  178.,  136.,  161.,  171.,\n",
       "        149.,  184.,  155.,  276.,  224.,  213.,  279.,  268.,  287.,\n",
       "        238.,  213.,  257.,  293.,  212.,  246.,  353.,  339.,  308.,\n",
       "        247.,  257.,  322.,  298.,  273.,  312.,  249.,  286.,  279.,\n",
       "        309.,  401.,  309.,  328.,  353.,  354.,  327.,  324.,  285.,\n",
       "        243.,  241.,  287.,  355.,  460.,  364.,  487.])"
      ]
     },
     "execution_count": 37,
     "metadata": {},
     "output_type": "execute_result"
    }
   ],
   "source": [
    "X"
   ]
  },
  {
   "cell_type": "code",
   "execution_count": 38,
   "metadata": {
    "collapsed": true
   },
   "outputs": [],
   "source": [
    "X = X.astype('float32')"
   ]
  },
  {
   "cell_type": "code",
   "execution_count": 39,
   "metadata": {
    "collapsed": false
   },
   "outputs": [
    {
     "data": {
      "text/plain": [
       "array([  41.,   39.,   50.,   40.,   43.,   38.,   44.,   35.,   39.,\n",
       "         35.,   29.,   49.,   50.,   59.,   63.,   32.,   39.,   47.,\n",
       "         53.,   60.,   57.,   52.,   70.,   90.,   74.,   62.,   55.,\n",
       "         84.,   94.,   70.,  108.,  139.,  120.,   97.,  126.,  149.,\n",
       "        158.,  124.,  140.,  109.,  114.,   77.,  120.,  133.,  110.,\n",
       "         92.,   97.,   78.,   99.,  107.,  112.,   90.,   98.,  125.,\n",
       "        155.,  190.,  236.,  189.,  174.,  178.,  136.,  161.,  171.,\n",
       "        149.,  184.,  155.,  276.,  224.,  213.,  279.,  268.,  287.,\n",
       "        238.,  213.,  257.,  293.,  212.,  246.,  353.,  339.,  308.,\n",
       "        247.,  257.,  322.,  298.,  273.,  312.,  249.,  286.,  279.,\n",
       "        309.,  401.,  309.,  328.,  353.,  354.,  327.,  324.,  285.,\n",
       "        243.,  241.,  287.,  355.,  460.,  364.,  487.], dtype=float32)"
      ]
     },
     "execution_count": 39,
     "metadata": {},
     "output_type": "execute_result"
    }
   ],
   "source": [
    "X"
   ]
  },
  {
   "cell_type": "code",
   "execution_count": 40,
   "metadata": {
    "collapsed": true
   },
   "outputs": [],
   "source": [
    "train_size = int(len(X)*0.50)"
   ]
  },
  {
   "cell_type": "code",
   "execution_count": 42,
   "metadata": {
    "collapsed": false
   },
   "outputs": [],
   "source": [
    "train,test = X[:train_size],X[train_size:]"
   ]
  },
  {
   "cell_type": "code",
   "execution_count": 55,
   "metadata": {
    "collapsed": false
   },
   "outputs": [
    {
     "data": {
      "text/plain": [
       "array([ 125.,  155.,  190.,  236.,  189.,  174.,  178.,  136.,  161.,\n",
       "        171.,  149.,  184.,  155.,  276.,  224.,  213.,  279.,  268.,\n",
       "        287.,  238.,  213.,  257.,  293.,  212.,  246.,  353.,  339.,\n",
       "        308.,  247.,  257.,  322.,  298.,  273.,  312.,  249.,  286.,\n",
       "        279.,  309.,  401.,  309.,  328.,  353.,  354.,  327.,  324.,\n",
       "        285.,  243.,  241.,  287.,  355.,  460.,  364.,  487.], dtype=float32)"
      ]
     },
     "execution_count": 55,
     "metadata": {},
     "output_type": "execute_result"
    }
   ],
   "source": [
    "test"
   ]
  },
  {
   "cell_type": "code",
   "execution_count": 44,
   "metadata": {
    "collapsed": false
   },
   "outputs": [
    {
     "ename": "IndentationError",
     "evalue": "expected an indented block (<ipython-input-44-755538327404>, line 8)",
     "output_type": "error",
     "traceback": [
      "\u001b[0;36m  File \u001b[0;32m\"<ipython-input-44-755538327404>\"\u001b[0;36m, line \u001b[0;32m8\u001b[0m\n\u001b[0;31m    yhat = history[-1]\u001b[0m\n\u001b[0m       ^\u001b[0m\n\u001b[0;31mIndentationError\u001b[0m\u001b[0;31m:\u001b[0m expected an indented block\n"
     ]
    }
   ],
   "source": [
    "from pandas import Series\n",
    "from sklearn.metrics import mean_squared_error\n",
    "from math import sqrt\n",
    "history = [x for x in train]\n",
    "predictions = list\n",
    "for i in range(len(test)):\n",
    "    # predict\n",
    "    yhat = history[-1]\n",
    "    predictions.append(yhat)\n",
    "    # observation\n",
    "    obs = test[i]\n",
    "    history.append(obs)\n",
    "print('>Predicted=%.3f, Expected=%3.f' % (yhat, obs))\n",
    "# report performance\n",
    "mse = mean_squared_error(test, predictions)\n",
    "rmse = sqrt(mse)\n",
    "print('RMSE: %.3f' % rmse)"
   ]
  },
  {
   "cell_type": "code",
   "execution_count": 59,
   "metadata": {
    "collapsed": false
   },
   "outputs": [
    {
     "data": {
      "text/plain": [
       "Month\n",
       "1966-01     41.0\n",
       "1966-02     39.0\n",
       "1966-03     50.0\n",
       "1966-04     40.0\n",
       "1966-05     43.0\n",
       "1966-06     38.0\n",
       "1966-07     44.0\n",
       "1966-08     35.0\n",
       "1966-09     39.0\n",
       "1966-10     35.0\n",
       "1966-11     29.0\n",
       "1966-12     49.0\n",
       "1967-01     50.0\n",
       "1967-02     59.0\n",
       "1967-03     63.0\n",
       "1967-04     32.0\n",
       "1967-05     39.0\n",
       "1967-06     47.0\n",
       "1967-07     53.0\n",
       "1967-08     60.0\n",
       "1967-09     57.0\n",
       "1967-10     52.0\n",
       "1967-11     70.0\n",
       "1967-12     90.0\n",
       "1968-01     74.0\n",
       "1968-02     62.0\n",
       "1968-03     55.0\n",
       "1968-04     84.0\n",
       "1968-05     94.0\n",
       "1968-06     70.0\n",
       "           ...  \n",
       "1972-05    212.0\n",
       "1972-06    246.0\n",
       "1972-07    353.0\n",
       "1972-08    339.0\n",
       "1972-09    308.0\n",
       "1972-10    247.0\n",
       "1972-11    257.0\n",
       "1972-12    322.0\n",
       "1973-01    298.0\n",
       "1973-02    273.0\n",
       "1973-03    312.0\n",
       "1973-04    249.0\n",
       "1973-05    286.0\n",
       "1973-06    279.0\n",
       "1973-07    309.0\n",
       "1973-08    401.0\n",
       "1973-09    309.0\n",
       "1973-10    328.0\n",
       "1973-11    353.0\n",
       "1973-12    354.0\n",
       "1974-01    327.0\n",
       "1974-02    324.0\n",
       "1974-03    285.0\n",
       "1974-04    243.0\n",
       "1974-05    241.0\n",
       "1974-06    287.0\n",
       "1974-07    355.0\n",
       "1974-08    460.0\n",
       "1974-09    364.0\n",
       "1974-10    487.0\n",
       "Name: Monthly Boston armed robberies Jan.1966-Oct.1975 Deutsch and Alt (1977), dtype: float64"
      ]
     },
     "execution_count": 59,
     "metadata": {},
     "output_type": "execute_result"
    }
   ],
   "source": [
    "series"
   ]
  },
  {
   "cell_type": "code",
   "execution_count": 60,
   "metadata": {
    "collapsed": false
   },
   "outputs": [
    {
     "data": {
      "text/plain": [
       "count    106.000000\n",
       "mean     173.103774\n",
       "std      112.231133\n",
       "min       29.000000\n",
       "25%       74.750000\n",
       "50%      144.500000\n",
       "75%      271.750000\n",
       "max      487.000000\n",
       "Name: Monthly Boston armed robberies Jan.1966-Oct.1975 Deutsch and Alt (1977), dtype: float64"
      ]
     },
     "execution_count": 60,
     "metadata": {},
     "output_type": "execute_result"
    }
   ],
   "source": [
    "series.describe()"
   ]
  },
  {
   "cell_type": "code",
   "execution_count": 61,
   "metadata": {
    "collapsed": true
   },
   "outputs": [],
   "source": [
    "from matplotlib import pyplot"
   ]
  },
  {
   "cell_type": "code",
   "execution_count": 64,
   "metadata": {
    "collapsed": false
   },
   "outputs": [
    {
     "data": {
      "image/png": "[encoded data removed]",
      "text/plain": [
       "<matplotlib.figure.Figure at 0xbecdf98>"
      ]
     },
     "metadata": {},
     "output_type": "display_data"
    }
   ],
   "source": [
    "series.plot()\n",
    "pyplot.show()"
   ]
  },
  {
   "cell_type": "code",
   "execution_count": 66,
   "metadata": {
    "collapsed": false
   },
   "outputs": [
    {
     "data": {
      "image/png": "[encoded data removed]",
      "text/plain": [
       "<matplotlib.figure.Figure at 0xc038e48>"
      ]
     },
     "metadata": {},
     "output_type": "display_data"
    }
   ],
   "source": [
    "pyplot.figure(1)\n",
    "pyplot.subplot(211)\n",
    "series.hist()\n",
    "pyplot.subplot(212)\n",
    "series.plot(kind='kde')\n",
    "pyplot.show()"
   ]
  },
  {
   "cell_type": "code",
   "execution_count": 111,
   "metadata": {
    "collapsed": false
   },
   "outputs": [],
   "source": [
    "from pandas import Series\n",
    "from pandas import DataFrame\n",
    "from pandas import TimeGrouper\n",
    "from matplotlib import pyplot\n",
    "groups = series['1966':'1973'].groupby(series.index[:84].map(lambda t:t[:4]))\n",
    "years = DataFrame"
   ]
  },
  {
   "cell_type": "code",
   "execution_count": 116,
   "metadata": {
    "collapsed": false
   },
   "outputs": [
    {
     "data": {
      "text/plain": [
       "1966     482.0\n",
       "1967     672.0\n",
       "1968    1178.0\n",
       "1969    1352.0\n",
       "1970    1753.0\n",
       "1971    2503.0\n",
       "1972    3285.0\n",
       "Name: Monthly Boston armed robberies Jan.1966-Oct.1975 Deutsch and Alt (1977), dtype: float64"
      ]
     },
     "execution_count": 116,
     "metadata": {},
     "output_type": "execute_result"
    }
   ],
   "source": [
    "groups.sum()"
   ]
  },
  {
   "cell_type": "code",
   "execution_count": 126,
   "metadata": {
    "collapsed": false
   },
   "outputs": [
    {
     "ename": "IndentationError",
     "evalue": "unexpected indent (<ipython-input-126-26777540950d>, line 3)",
     "output_type": "error",
     "traceback": [
      "\u001b[0;36m  File \u001b[0;32m\"<ipython-input-126-26777540950d>\"\u001b[0;36m, line \u001b[0;32m3\u001b[0m\n\u001b[0;31m    pyplot.show\u001b[0m\n\u001b[0m    ^\u001b[0m\n\u001b[0;31mIndentationError\u001b[0m\u001b[0;31m:\u001b[0m unexpected indent\n"
     ]
    }
   ],
   "source": []
  },
  {
   "cell_type": "code",
   "execution_count": 127,
   "metadata": {
    "collapsed": false
   },
   "outputs": [
    {
     "data": {
      "text/plain": [
       "Month\n",
       "1966-01     41.0\n",
       "1966-02     39.0\n",
       "1966-03     50.0\n",
       "1966-04     40.0\n",
       "1966-05     43.0\n",
       "1966-06     38.0\n",
       "1966-07     44.0\n",
       "1966-08     35.0\n",
       "1966-09     39.0\n",
       "1966-10     35.0\n",
       "1966-11     29.0\n",
       "1966-12     49.0\n",
       "1967-01     50.0\n",
       "1967-02     59.0\n",
       "1967-03     63.0\n",
       "1967-04     32.0\n",
       "1967-05     39.0\n",
       "1967-06     47.0\n",
       "1967-07     53.0\n",
       "1967-08     60.0\n",
       "1967-09     57.0\n",
       "1967-10     52.0\n",
       "1967-11     70.0\n",
       "1967-12     90.0\n",
       "1968-01     74.0\n",
       "1968-02     62.0\n",
       "1968-03     55.0\n",
       "1968-04     84.0\n",
       "1968-05     94.0\n",
       "1968-06     70.0\n",
       "           ...  \n",
       "1972-05    212.0\n",
       "1972-06    246.0\n",
       "1972-07    353.0\n",
       "1972-08    339.0\n",
       "1972-09    308.0\n",
       "1972-10    247.0\n",
       "1972-11    257.0\n",
       "1972-12    322.0\n",
       "1973-01    298.0\n",
       "1973-02    273.0\n",
       "1973-03    312.0\n",
       "1973-04    249.0\n",
       "1973-05    286.0\n",
       "1973-06    279.0\n",
       "1973-07    309.0\n",
       "1973-08    401.0\n",
       "1973-09    309.0\n",
       "1973-10    328.0\n",
       "1973-11    353.0\n",
       "1973-12    354.0\n",
       "1974-01    327.0\n",
       "1974-02    324.0\n",
       "1974-03    285.0\n",
       "1974-04    243.0\n",
       "1974-05    241.0\n",
       "1974-06    287.0\n",
       "1974-07    355.0\n",
       "1974-08    460.0\n",
       "1974-09    364.0\n",
       "1974-10    487.0\n",
       "Name: Monthly Boston armed robberies Jan.1966-Oct.1975 Deutsch and Alt (1977), dtype: float64"
      ]
     },
     "execution_count": 127,
     "metadata": {},
     "output_type": "execute_result"
    }
   ],
   "source": [
    "series"
   ]
  },
  {
   "cell_type": "code",
   "execution_count": 136,
   "metadata": {
    "collapsed": false
   },
   "outputs": [],
   "source": [
    "years = DataFrame(series['1966':'1973'].values,index=[series.index[:84].map(lambda t:t[:4]),series.index[:84].map(lambda t:t[5:])])"
   ]
  },
  {
   "cell_type": "code",
   "execution_count": 139,
   "metadata": {
    "collapsed": false
   },
   "outputs": [],
   "source": [
    "years=years.unstack()"
   ]
  },
  {
   "cell_type": "code",
   "execution_count": 146,
   "metadata": {
    "collapsed": false
   },
   "outputs": [
    {
     "data": {
      "text/html": [
       "<div>\n",
       "<table border=\"1\" class=\"dataframe\">\n",
       "  <thead>\n",
       "    <tr style=\"text-align: right;\">\n",
       "      <th></th>\n",
       "      <th></th>\n",
       "      <th>1966</th>\n",
       "      <th>1967</th>\n",
       "      <th>1968</th>\n",
       "      <th>1969</th>\n",
       "      <th>1970</th>\n",
       "      <th>1971</th>\n",
       "      <th>1972</th>\n",
       "    </tr>\n",
       "  </thead>\n",
       "  <tbody>\n",
       "    <tr>\n",
       "      <th rowspan=\"12\" valign=\"top\">0</th>\n",
       "      <th>01</th>\n",
       "      <td>41.0</td>\n",
       "      <td>50.0</td>\n",
       "      <td>74.0</td>\n",
       "      <td>158.0</td>\n",
       "      <td>99.0</td>\n",
       "      <td>136.0</td>\n",
       "      <td>238.0</td>\n",
       "    </tr>\n",
       "    <tr>\n",
       "      <th>02</th>\n",
       "      <td>39.0</td>\n",
       "      <td>59.0</td>\n",
       "      <td>62.0</td>\n",
       "      <td>124.0</td>\n",
       "      <td>107.0</td>\n",
       "      <td>161.0</td>\n",
       "      <td>213.0</td>\n",
       "    </tr>\n",
       "    <tr>\n",
       "      <th>03</th>\n",
       "      <td>50.0</td>\n",
       "      <td>63.0</td>\n",
       "      <td>55.0</td>\n",
       "      <td>140.0</td>\n",
       "      <td>112.0</td>\n",
       "      <td>171.0</td>\n",
       "      <td>257.0</td>\n",
       "    </tr>\n",
       "    <tr>\n",
       "      <th>04</th>\n",
       "      <td>40.0</td>\n",
       "      <td>32.0</td>\n",
       "      <td>84.0</td>\n",
       "      <td>109.0</td>\n",
       "      <td>90.0</td>\n",
       "      <td>149.0</td>\n",
       "      <td>293.0</td>\n",
       "    </tr>\n",
       "    <tr>\n",
       "      <th>05</th>\n",
       "      <td>43.0</td>\n",
       "      <td>39.0</td>\n",
       "      <td>94.0</td>\n",
       "      <td>114.0</td>\n",
       "      <td>98.0</td>\n",
       "      <td>184.0</td>\n",
       "      <td>212.0</td>\n",
       "    </tr>\n",
       "    <tr>\n",
       "      <th>06</th>\n",
       "      <td>38.0</td>\n",
       "      <td>47.0</td>\n",
       "      <td>70.0</td>\n",
       "      <td>77.0</td>\n",
       "      <td>125.0</td>\n",
       "      <td>155.0</td>\n",
       "      <td>246.0</td>\n",
       "    </tr>\n",
       "    <tr>\n",
       "      <th>07</th>\n",
       "      <td>44.0</td>\n",
       "      <td>53.0</td>\n",
       "      <td>108.0</td>\n",
       "      <td>120.0</td>\n",
       "      <td>155.0</td>\n",
       "      <td>276.0</td>\n",
       "      <td>353.0</td>\n",
       "    </tr>\n",
       "    <tr>\n",
       "      <th>08</th>\n",
       "      <td>35.0</td>\n",
       "      <td>60.0</td>\n",
       "      <td>139.0</td>\n",
       "      <td>133.0</td>\n",
       "      <td>190.0</td>\n",
       "      <td>224.0</td>\n",
       "      <td>339.0</td>\n",
       "    </tr>\n",
       "    <tr>\n",
       "      <th>09</th>\n",
       "      <td>39.0</td>\n",
       "      <td>57.0</td>\n",
       "      <td>120.0</td>\n",
       "      <td>110.0</td>\n",
       "      <td>236.0</td>\n",
       "      <td>213.0</td>\n",
       "      <td>308.0</td>\n",
       "    </tr>\n",
       "    <tr>\n",
       "      <th>10</th>\n",
       "      <td>35.0</td>\n",
       "      <td>52.0</td>\n",
       "      <td>97.0</td>\n",
       "      <td>92.0</td>\n",
       "      <td>189.0</td>\n",
       "      <td>279.0</td>\n",
       "      <td>247.0</td>\n",
       "    </tr>\n",
       "    <tr>\n",
       "      <th>11</th>\n",
       "      <td>29.0</td>\n",
       "      <td>70.0</td>\n",
       "      <td>126.0</td>\n",
       "      <td>97.0</td>\n",
       "      <td>174.0</td>\n",
       "      <td>268.0</td>\n",
       "      <td>257.0</td>\n",
       "    </tr>\n",
       "    <tr>\n",
       "      <th>12</th>\n",
       "      <td>49.0</td>\n",
       "      <td>90.0</td>\n",
       "      <td>149.0</td>\n",
       "      <td>78.0</td>\n",
       "      <td>178.0</td>\n",
       "      <td>287.0</td>\n",
       "      <td>322.0</td>\n",
       "    </tr>\n",
       "  </tbody>\n",
       "</table>\n",
       "</div>"
      ],
      "text/plain": [
       "      1966  1967   1968   1969   1970   1971   1972\n",
       "0 01  41.0  50.0   74.0  158.0   99.0  136.0  238.0\n",
       "  02  39.0  59.0   62.0  124.0  107.0  161.0  213.0\n",
       "  03  50.0  63.0   55.0  140.0  112.0  171.0  257.0\n",
       "  04  40.0  32.0   84.0  109.0   90.0  149.0  293.0\n",
       "  05  43.0  39.0   94.0  114.0   98.0  184.0  212.0\n",
       "  06  38.0  47.0   70.0   77.0  125.0  155.0  246.0\n",
       "  07  44.0  53.0  108.0  120.0  155.0  276.0  353.0\n",
       "  08  35.0  60.0  139.0  133.0  190.0  224.0  339.0\n",
       "  09  39.0  57.0  120.0  110.0  236.0  213.0  308.0\n",
       "  10  35.0  52.0   97.0   92.0  189.0  279.0  247.0\n",
       "  11  29.0  70.0  126.0   97.0  174.0  268.0  257.0\n",
       "  12  49.0  90.0  149.0   78.0  178.0  287.0  322.0"
      ]
     },
     "execution_count": 146,
     "metadata": {},
     "output_type": "execute_result"
    }
   ],
   "source": [
    "years.T"
   ]
  },
  {
   "cell_type": "code",
   "execution_count": 147,
   "metadata": {
    "collapsed": false
   },
   "outputs": [
    {
     "name": "stderr",
     "output_type": "stream",
     "text": [
      "C:\\Users\\memedunno\\Anaconda2\\lib\\site-packages\\ipykernel\\__main__.py:1: FutureWarning: \n",
      "The default value for 'return_type' will change to 'axes' in a future release.\n",
      " To use the future behavior now, set return_type='axes'.\n",
      " To keep the previous behavior and silence this warning, set return_type='dict'.\n",
      "  if __name__ == '__main__':\n"
     ]
    },
    {
     "data": {
      "image/png": "[encoded data removed]",
      "text/plain": [
       "<matplotlib.figure.Figure at 0xc4602e8>"
      ]
     },
     "metadata": {},
     "output_type": "display_data"
    }
   ],
   "source": [
    "years.T.boxplot()\n",
    "pyplot.show()"
   ]
  },
  {
   "cell_type": "code",
   "execution_count": 158,
   "metadata": {
    "collapsed": false
   },
   "outputs": [
    {
     "name": "stdout",
     "output_type": "stream",
     "text": [
      "ADF Statistic: -3.980946\n",
      "p-value: 0.001514\n",
      "Critical Values:\n",
      "\t5%: -2.893\n",
      "\t1%: -3.503\n",
      "\t10%: -2.584\n"
     ]
    }
   ],
   "source": [
    "from pandas import Series\n",
    "from statsmodels.tsa.stattools import adfuller \n",
    "def difference(dataset):\n",
    "    diff = list()\n",
    "    for i in range(1,len(dataset)):\n",
    "        value = dataset[i] - dataset[i-1]\n",
    "        diff.append(value)\n",
    "    return Series(diff)\n",
    "X = series.values\n",
    "stationary = difference(X)\n",
    "stationary.index = series.index[1:]\n",
    "result = adfuller(stationary)\n",
    "print('ADF Statistic: %f' % result[0])\n",
    "print('p-value: %f' % result[1])\n",
    "print('Critical Values:')\n",
    "for key, value in result[4].items():\n",
    "    print('\\t%s: %.3f' % (key, value))"
   ]
  },
  {
   "cell_type": "code",
   "execution_count": 160,
   "metadata": {
    "collapsed": false
   },
   "outputs": [
    {
     "data": {
      "text/plain": [
       "Month\n",
       "1966-01     41.0\n",
       "1966-02     39.0\n",
       "1966-03     50.0\n",
       "1966-04     40.0\n",
       "1966-05     43.0\n",
       "1966-06     38.0\n",
       "1966-07     44.0\n",
       "1966-08     35.0\n",
       "1966-09     39.0\n",
       "1966-10     35.0\n",
       "1966-11     29.0\n",
       "1966-12     49.0\n",
       "1967-01     50.0\n",
       "1967-02     59.0\n",
       "1967-03     63.0\n",
       "1967-04     32.0\n",
       "1967-05     39.0\n",
       "1967-06     47.0\n",
       "1967-07     53.0\n",
       "1967-08     60.0\n",
       "1967-09     57.0\n",
       "1967-10     52.0\n",
       "1967-11     70.0\n",
       "1967-12     90.0\n",
       "1968-01     74.0\n",
       "1968-02     62.0\n",
       "1968-03     55.0\n",
       "1968-04     84.0\n",
       "1968-05     94.0\n",
       "1968-06     70.0\n",
       "           ...  \n",
       "1972-05    212.0\n",
       "1972-06    246.0\n",
       "1972-07    353.0\n",
       "1972-08    339.0\n",
       "1972-09    308.0\n",
       "1972-10    247.0\n",
       "1972-11    257.0\n",
       "1972-12    322.0\n",
       "1973-01    298.0\n",
       "1973-02    273.0\n",
       "1973-03    312.0\n",
       "1973-04    249.0\n",
       "1973-05    286.0\n",
       "1973-06    279.0\n",
       "1973-07    309.0\n",
       "1973-08    401.0\n",
       "1973-09    309.0\n",
       "1973-10    328.0\n",
       "1973-11    353.0\n",
       "1973-12    354.0\n",
       "1974-01    327.0\n",
       "1974-02    324.0\n",
       "1974-03    285.0\n",
       "1974-04    243.0\n",
       "1974-05    241.0\n",
       "1974-06    287.0\n",
       "1974-07    355.0\n",
       "1974-08    460.0\n",
       "1974-09    364.0\n",
       "1974-10    487.0\n",
       "Name: Monthly Boston armed robberies Jan.1966-Oct.1975 Deutsch and Alt (1977), dtype: float64"
      ]
     },
     "execution_count": 160,
     "metadata": {},
     "output_type": "execute_result"
    }
   ],
   "source": [
    "series"
   ]
  },
  {
   "cell_type": "code",
   "execution_count": 167,
   "metadata": {
    "collapsed": false
   },
   "outputs": [
    {
     "ename": "AttributeError",
     "evalue": "'function' object has no attribute 'figure'",
     "output_type": "error",
     "traceback": [
      "\u001b[0;31m---------------------------------------------------------------------------\u001b[0m",
      "\u001b[0;31mAttributeError\u001b[0m                            Traceback (most recent call last)",
      "\u001b[0;32m<ipython-input-167-5ca0bb4b0128>\u001b[0m in \u001b[0;36m<module>\u001b[0;34m()\u001b[0m\n\u001b[1;32m      5\u001b[0m \u001b[0mpyplot\u001b[0m\u001b[1;33m.\u001b[0m\u001b[0mfigure\u001b[0m\u001b[1;33m\u001b[0m\u001b[0m\n\u001b[1;32m      6\u001b[0m \u001b[0mpyplot\u001b[0m\u001b[1;33m.\u001b[0m\u001b[0msubplot\u001b[0m\u001b[1;33m(\u001b[0m\u001b[1;36m211\u001b[0m\u001b[1;33m)\u001b[0m\u001b[1;33m\u001b[0m\u001b[0m\n\u001b[0;32m----> 7\u001b[0;31m \u001b[0mplot_acf\u001b[0m\u001b[1;33m(\u001b[0m\u001b[0mseries\u001b[0m\u001b[1;33m,\u001b[0m \u001b[0max\u001b[0m\u001b[1;33m=\u001b[0m\u001b[0mpyplot\u001b[0m\u001b[1;33m.\u001b[0m\u001b[0mgca\u001b[0m\u001b[1;33m)\u001b[0m\u001b[1;33m\u001b[0m\u001b[0m\n\u001b[0m\u001b[1;32m      8\u001b[0m \u001b[0mpyplot\u001b[0m\u001b[1;33m.\u001b[0m\u001b[0msubplot\u001b[0m\u001b[1;33m(\u001b[0m\u001b[1;36m212\u001b[0m\u001b[1;33m)\u001b[0m\u001b[1;33m\u001b[0m\u001b[0m\n\u001b[1;32m      9\u001b[0m \u001b[0mplot_pacf\u001b[0m\u001b[1;33m(\u001b[0m\u001b[0mseries\u001b[0m\u001b[1;33m,\u001b[0m \u001b[0max\u001b[0m\u001b[1;33m=\u001b[0m\u001b[0mpyplot\u001b[0m\u001b[1;33m.\u001b[0m\u001b[0mgca\u001b[0m\u001b[1;33m)\u001b[0m\u001b[1;33m\u001b[0m\u001b[0m\n",
      "\u001b[0;32mC:\\Users\\memedunno\\Anaconda2\\lib\\site-packages\\statsmodels\\graphics\\tsaplots.py\u001b[0m in \u001b[0;36mplot_acf\u001b[0;34m(x, ax, lags, alpha, use_vlines, unbiased, fft, **kwargs)\u001b[0m\n\u001b[1;32m     59\u001b[0m \u001b[1;33m\u001b[0m\u001b[0m\n\u001b[1;32m     60\u001b[0m     \"\"\"\n\u001b[0;32m---> 61\u001b[0;31m     \u001b[0mfig\u001b[0m\u001b[1;33m,\u001b[0m \u001b[0max\u001b[0m \u001b[1;33m=\u001b[0m \u001b[0mutils\u001b[0m\u001b[1;33m.\u001b[0m\u001b[0mcreate_mpl_ax\u001b[0m\u001b[1;33m(\u001b[0m\u001b[0max\u001b[0m\u001b[1;33m)\u001b[0m\u001b[1;33m\u001b[0m\u001b[0m\n\u001b[0m\u001b[1;32m     62\u001b[0m \u001b[1;33m\u001b[0m\u001b[0m\n\u001b[1;32m     63\u001b[0m     \u001b[1;32mif\u001b[0m \u001b[0mlags\u001b[0m \u001b[1;32mis\u001b[0m \u001b[0mNone\u001b[0m\u001b[1;33m:\u001b[0m\u001b[1;33m\u001b[0m\u001b[0m\n",
      "\u001b[0;32mC:\\Users\\memedunno\\Anaconda2\\lib\\site-packages\\statsmodels\\graphics\\utils.py\u001b[0m in \u001b[0;36mcreate_mpl_ax\u001b[0;34m(ax)\u001b[0m\n\u001b[1;32m     57\u001b[0m         \u001b[0max\u001b[0m \u001b[1;33m=\u001b[0m \u001b[0mfig\u001b[0m\u001b[1;33m.\u001b[0m\u001b[0madd_subplot\u001b[0m\u001b[1;33m(\u001b[0m\u001b[1;36m111\u001b[0m\u001b[1;33m)\u001b[0m\u001b[1;33m\u001b[0m\u001b[0m\n\u001b[1;32m     58\u001b[0m     \u001b[1;32melse\u001b[0m\u001b[1;33m:\u001b[0m\u001b[1;33m\u001b[0m\u001b[0m\n\u001b[0;32m---> 59\u001b[0;31m         \u001b[0mfig\u001b[0m \u001b[1;33m=\u001b[0m \u001b[0max\u001b[0m\u001b[1;33m.\u001b[0m\u001b[0mfigure\u001b[0m\u001b[1;33m\u001b[0m\u001b[0m\n\u001b[0m\u001b[1;32m     60\u001b[0m \u001b[1;33m\u001b[0m\u001b[0m\n\u001b[1;32m     61\u001b[0m     \u001b[1;32mreturn\u001b[0m \u001b[0mfig\u001b[0m\u001b[1;33m,\u001b[0m \u001b[0max\u001b[0m\u001b[1;33m\u001b[0m\u001b[0m\n",
      "\u001b[0;31mAttributeError\u001b[0m: 'function' object has no attribute 'figure'"
     ]
    }
   ],
   "source": [
    "from pandas import Series\n",
    "from statsmodels.graphics.tsaplots import plot_acf\n",
    "from statsmodels.graphics.tsaplots import plot_pacf\n",
    "from matplotlib import pyplot\n",
    "pyplot.figure\n",
    "pyplot.subplot(211)\n",
    "plot_acf(series, ax=pyplot.gca)\n",
    "pyplot.subplot(212)\n",
    "plot_pacf(series, ax=pyplot.gca)\n",
    "pyplot.show()"
   ]
  },
  {
   "cell_type": "code",
   "execution_count": null,
   "metadata": {
    "collapsed": true
   },
   "outputs": [],
   "source": []
  }
 ],
 "metadata": {
  "anaconda-cloud": {},
  "kernelspec": {
   "display_name": "Python [default]",
   "language": "python",
   "name": "python2"
  },
  "language_info": {
   "codemirror_mode": {
    "name": "ipython",
    "version": 2
   },
   "file_extension": ".py",
   "mimetype": "text/x-python",
   "name": "python",
   "nbconvert_exporter": "python",
   "pygments_lexer": "ipython2",
   "version": "2.7.12"
  }
 },
 "nbformat": 4,
 "nbformat_minor": 1
}
